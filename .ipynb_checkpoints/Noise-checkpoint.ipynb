{
 "cells": [
  {
   "cell_type": "code",
   "execution_count": 3,
   "id": "27bdef99-7e33-44b4-8d23-809e060e6a3b",
   "metadata": {},
   "outputs": [],
   "source": [
    "import pandas as pd\n",
    "import plotly.express as px\n",
    "import plotly.graph_objects as go\n",
    "import plotly.io as pio\n",
    "# safest renderer\n",
    "pio.renderers.default = \"iframe\"\n",
    "import numpy as np"
   ]
  },
  {
   "cell_type": "markdown",
   "id": "b121baf5-5a7e-4387-9396-eb7662d30e39",
   "metadata": {},
   "source": [
    "### Model acceleration ###\n",
    "Here we propose a plausible model for the acceleration function and compute its antiderivatives to determine velocity and position."
   ]
  },
  {
   "cell_type": "code",
   "execution_count": 5,
   "id": "7ae16556-9e8c-4442-a9f5-ad5443e900b4",
   "metadata": {
    "jupyter": {
     "source_hidden": true
    }
   },
   "outputs": [],
   "source": [
    "# acceleration function\n",
    "def a_vec(t_array):\n",
    "    t_array = np.asarray(t_array)\n",
    "\n",
    "    # Define the conditions\n",
    "    conds = [\n",
    "        (0 <= t_array) & (t_array < 1),\n",
    "        (1 <= t_array) & (t_array < 2),\n",
    "        (2 <= t_array) & (t_array < 3),\n",
    "        (3 <= t_array) & (t_array < 7),\n",
    "        (7 <= t_array) & (t_array < 8),\n",
    "        (8 <= t_array) & (t_array < 9),\n",
    "        (9 <= t_array) & (t_array <= 10),\n",
    "    ]\n",
    "\n",
    "    # Define the corresponding expressions\n",
    "    funcs = [\n",
    "        0,\n",
    "        t_array - 1,\n",
    "        -t_array + 3,\n",
    "        0,\n",
    "        -t_array + 7,\n",
    "        t_array - 9,\n",
    "        0\n",
    "    ]\n",
    "\n",
    "    # Compute piecewise values\n",
    "    result = np.select(conds, funcs, default=0)\n",
    "\n",
    "    return result\n"
   ]
  },
  {
   "cell_type": "code",
   "execution_count": 7,
   "id": "19d9c3dd-98b4-4cc5-8658-3688d1447df6",
   "metadata": {
    "jupyter": {
     "source_hidden": true
    }
   },
   "outputs": [],
   "source": [
    "# velocity function\n",
    "def v_vec(t_array):\n",
    "    t_array = np.asarray(t_array)\n",
    "\n",
    "    # Define conditions\n",
    "    conds = [\n",
    "        (0 <= t_array) & (t_array < 1),\n",
    "        (1 <= t_array) & (t_array < 2),\n",
    "        (2 <= t_array) & (t_array < 3),\n",
    "        (3 <= t_array) & (t_array < 7),\n",
    "        (7 <= t_array) & (t_array < 8),\n",
    "        (8 <= t_array) & (t_array < 9),\n",
    "        (9 <= t_array) & (t_array <= 10),\n",
    "    ]\n",
    "\n",
    "    # Define corresponding functions or constants\n",
    "    funcs = [\n",
    "        0,\n",
    "        0.5 * t_array**2 - t_array + 0.5,\n",
    "        -0.5 * t_array**2 + 3 * t_array - 3.5,\n",
    "        1,\n",
    "        -0.5 * t_array**2 + 7 * t_array - 23.5,\n",
    "        0.5 * t_array**2 - 9 * t_array + 40.5,\n",
    "        0\n",
    "    ]\n",
    "\n",
    "    # Compute the piecewise result\n",
    "    result = np.select(conds, funcs, default=0)\n",
    "\n",
    "    return result"
   ]
  },
  {
   "cell_type": "code",
   "execution_count": 9,
   "id": "1cc458d2-5396-4d46-a057-686a430f1949",
   "metadata": {
    "jupyter": {
     "source_hidden": true
    }
   },
   "outputs": [],
   "source": [
    "# position function\n",
    "def s_vec(t_array):\n",
    "    t_array = np.asarray(t_array)\n",
    "\n",
    "    # Define conditions\n",
    "    conds = [\n",
    "        (0 <= t_array) & (t_array < 1),\n",
    "        (1 <= t_array) & (t_array < 2),\n",
    "        (2 <= t_array) & (t_array < 3),\n",
    "        (3 <= t_array) & (t_array < 7),\n",
    "        (7 <= t_array) & (t_array < 8),\n",
    "        (8 <= t_array) & (t_array < 9),\n",
    "        (9 <= t_array) & (t_array <= 10),\n",
    "    ]\n",
    "\n",
    "    # Define expressions for each interval\n",
    "    funcs = [\n",
    "        0,\n",
    "        (1/6)*t_array**3 - 0.5*t_array**2 + 0.5*t_array - (1/6),\n",
    "        -(1/6)*t_array**3 + 1.5*t_array**2 - 3.5*t_array + 2.5,\n",
    "        t_array - 2,\n",
    "        -(1/6)*t_array**3 + 3.5*t_array**2 - 23.5*t_array + (331/6),\n",
    "        (1/6)*t_array**3 - 4.5*t_array**2 + 40.5*t_array - 115.5,\n",
    "        6\n",
    "    ]\n",
    "\n",
    "    result = np.select(conds, funcs, default=0)\n",
    "\n",
    "    return result"
   ]
  },
  {
   "cell_type": "code",
   "execution_count": 11,
   "id": "d2299717-bdfc-445c-b97a-4de75c7bb5ef",
   "metadata": {
    "jupyter": {
     "source_hidden": true
    }
   },
   "outputs": [
    {
     "data": {
      "text/html": [
       "<div>\n",
       "<style scoped>\n",
       "    .dataframe tbody tr th:only-of-type {\n",
       "        vertical-align: middle;\n",
       "    }\n",
       "\n",
       "    .dataframe tbody tr th {\n",
       "        vertical-align: top;\n",
       "    }\n",
       "\n",
       "    .dataframe thead th {\n",
       "        text-align: right;\n",
       "    }\n",
       "</style>\n",
       "<table border=\"1\" class=\"dataframe\">\n",
       "  <thead>\n",
       "    <tr style=\"text-align: right;\">\n",
       "      <th></th>\n",
       "      <th>x</th>\n",
       "    </tr>\n",
       "  </thead>\n",
       "  <tbody>\n",
       "    <tr>\n",
       "      <th>0</th>\n",
       "      <td>0.00000</td>\n",
       "    </tr>\n",
       "    <tr>\n",
       "      <th>1</th>\n",
       "      <td>0.01001</td>\n",
       "    </tr>\n",
       "    <tr>\n",
       "      <th>2</th>\n",
       "      <td>0.02002</td>\n",
       "    </tr>\n",
       "    <tr>\n",
       "      <th>3</th>\n",
       "      <td>0.03003</td>\n",
       "    </tr>\n",
       "    <tr>\n",
       "      <th>4</th>\n",
       "      <td>0.04004</td>\n",
       "    </tr>\n",
       "  </tbody>\n",
       "</table>\n",
       "</div>"
      ],
      "text/plain": [
       "         x\n",
       "0  0.00000\n",
       "1  0.01001\n",
       "2  0.02002\n",
       "3  0.03003\n",
       "4  0.04004"
      ]
     },
     "execution_count": 11,
     "metadata": {},
     "output_type": "execute_result"
    }
   ],
   "source": [
    "X=np.linspace(0,10,1000)\n",
    "df = pd.DataFrame(dict(x=X))\n",
    "df.head()"
   ]
  },
  {
   "cell_type": "code",
   "execution_count": 13,
   "id": "b418cd3f-5741-4c38-99d6-8c25c599ab5b",
   "metadata": {},
   "outputs": [],
   "source": [
    "df['a'] = a_vec(df['x'])\n",
    "df['v'] = v_vec(df['x'])\n",
    "df['s'] = s_vec(df['x'])"
   ]
  },
  {
   "cell_type": "code",
   "execution_count": 15,
   "id": "708a7933-ca71-4c7b-b489-25e0ebf652d6",
   "metadata": {},
   "outputs": [
    {
     "data": {
      "text/html": [
       "<div>\n",
       "<style scoped>\n",
       "    .dataframe tbody tr th:only-of-type {\n",
       "        vertical-align: middle;\n",
       "    }\n",
       "\n",
       "    .dataframe tbody tr th {\n",
       "        vertical-align: top;\n",
       "    }\n",
       "\n",
       "    .dataframe thead th {\n",
       "        text-align: right;\n",
       "    }\n",
       "</style>\n",
       "<table border=\"1\" class=\"dataframe\">\n",
       "  <thead>\n",
       "    <tr style=\"text-align: right;\">\n",
       "      <th></th>\n",
       "      <th>x</th>\n",
       "      <th>a</th>\n",
       "      <th>v</th>\n",
       "      <th>s</th>\n",
       "    </tr>\n",
       "  </thead>\n",
       "  <tbody>\n",
       "    <tr>\n",
       "      <th>0</th>\n",
       "      <td>0.00000</td>\n",
       "      <td>0.0</td>\n",
       "      <td>0.0</td>\n",
       "      <td>0.0</td>\n",
       "    </tr>\n",
       "    <tr>\n",
       "      <th>1</th>\n",
       "      <td>0.01001</td>\n",
       "      <td>0.0</td>\n",
       "      <td>0.0</td>\n",
       "      <td>0.0</td>\n",
       "    </tr>\n",
       "    <tr>\n",
       "      <th>2</th>\n",
       "      <td>0.02002</td>\n",
       "      <td>0.0</td>\n",
       "      <td>0.0</td>\n",
       "      <td>0.0</td>\n",
       "    </tr>\n",
       "    <tr>\n",
       "      <th>3</th>\n",
       "      <td>0.03003</td>\n",
       "      <td>0.0</td>\n",
       "      <td>0.0</td>\n",
       "      <td>0.0</td>\n",
       "    </tr>\n",
       "    <tr>\n",
       "      <th>4</th>\n",
       "      <td>0.04004</td>\n",
       "      <td>0.0</td>\n",
       "      <td>0.0</td>\n",
       "      <td>0.0</td>\n",
       "    </tr>\n",
       "  </tbody>\n",
       "</table>\n",
       "</div>"
      ],
      "text/plain": [
       "         x    a    v    s\n",
       "0  0.00000  0.0  0.0  0.0\n",
       "1  0.01001  0.0  0.0  0.0\n",
       "2  0.02002  0.0  0.0  0.0\n",
       "3  0.03003  0.0  0.0  0.0\n",
       "4  0.04004  0.0  0.0  0.0"
      ]
     },
     "execution_count": 15,
     "metadata": {},
     "output_type": "execute_result"
    }
   ],
   "source": [
    "df.head()"
   ]
  },
  {
   "cell_type": "code",
   "execution_count": 17,
   "id": "73fa2915-df96-41ac-8e1b-94a86a53def5",
   "metadata": {},
   "outputs": [
    {
     "data": {
      "text/html": [
       "<iframe\n",
       "    scrolling=\"no\"\n",
       "    width=\"100%\"\n",
       "    height=\"545px\"\n",
       "    src=\"iframe_figures/figure_17.html\"\n",
       "    frameborder=\"0\"\n",
       "    allowfullscreen\n",
       "></iframe>\n"
      ]
     },
     "metadata": {},
     "output_type": "display_data"
    }
   ],
   "source": [
    "fig = go.Figure()\n",
    "# Update layout if desired\n",
    "fig.update_layout(\n",
    "    title=\"Acceleration, Velocity, Position\",\n",
    "    xaxis_title=\"Time(s)\",\n",
    "    yaxis_title=\"\"\n",
    ")\n",
    "# Add the acceleration trace\n",
    "fig.add_trace(go.Scatter(x=df['x'], y=df['a'], mode='lines', name='Acceleration', line=dict(color='blue')))\n",
    "# Add the velocity trace\n",
    "fig.add_trace(go.Scatter(x=df['x'], y=df['v'], mode='lines', name='Velocity', line=dict(color='red')))\n",
    "# Add the position trace\n",
    "fig.add_trace(go.Scatter(x=df['x'], y=df['s'], mode='lines', name='Position', line=dict(color='green')))\n",
    "\n",
    "fig.show()\n"
   ]
  },
  {
   "cell_type": "markdown",
   "id": "563c74ae-ff60-46fd-879e-8cbcbc6b3fe8",
   "metadata": {},
   "source": [
    "### Acceleration as data ###\n",
    "Treat the acceleration column as measured (very clean) data. Use the `.cumsum()` function to compute the velocity and position columns."
   ]
  },
  {
   "cell_type": "code",
   "execution_count": 21,
   "id": "8abfc17c-4f62-4e73-8219-830b245c4c8d",
   "metadata": {},
   "outputs": [
    {
     "data": {
      "text/html": [
       "<div>\n",
       "<style scoped>\n",
       "    .dataframe tbody tr th:only-of-type {\n",
       "        vertical-align: middle;\n",
       "    }\n",
       "\n",
       "    .dataframe tbody tr th {\n",
       "        vertical-align: top;\n",
       "    }\n",
       "\n",
       "    .dataframe thead th {\n",
       "        text-align: right;\n",
       "    }\n",
       "</style>\n",
       "<table border=\"1\" class=\"dataframe\">\n",
       "  <thead>\n",
       "    <tr style=\"text-align: right;\">\n",
       "      <th></th>\n",
       "      <th>x</th>\n",
       "    </tr>\n",
       "  </thead>\n",
       "  <tbody>\n",
       "    <tr>\n",
       "      <th>0</th>\n",
       "      <td>0.00000</td>\n",
       "    </tr>\n",
       "    <tr>\n",
       "      <th>1</th>\n",
       "      <td>0.01001</td>\n",
       "    </tr>\n",
       "    <tr>\n",
       "      <th>2</th>\n",
       "      <td>0.02002</td>\n",
       "    </tr>\n",
       "    <tr>\n",
       "      <th>3</th>\n",
       "      <td>0.03003</td>\n",
       "    </tr>\n",
       "    <tr>\n",
       "      <th>4</th>\n",
       "      <td>0.04004</td>\n",
       "    </tr>\n",
       "  </tbody>\n",
       "</table>\n",
       "</div>"
      ],
      "text/plain": [
       "         x\n",
       "0  0.00000\n",
       "1  0.01001\n",
       "2  0.02002\n",
       "3  0.03003\n",
       "4  0.04004"
      ]
     },
     "execution_count": 21,
     "metadata": {},
     "output_type": "execute_result"
    }
   ],
   "source": [
    "X=np.linspace(0,10,1000)\n",
    "df_data = pd.DataFrame(dict(x=X))\n",
    "df_data.head()"
   ]
  },
  {
   "cell_type": "code",
   "execution_count": 23,
   "id": "b7ed3c00-55b3-4e93-8866-af36ced39d75",
   "metadata": {},
   "outputs": [],
   "source": [
    "df_data['a'] = a_vec(df_data['x'])\n",
    "dt = X[1]-X[0]\n",
    "# compute velocity and position using numerical method\n",
    "df_data['v'] = df_data['a'].cumsum()*dt\n",
    "df_data['s'] = df_data['v'].cumsum()*dt"
   ]
  },
  {
   "cell_type": "code",
   "execution_count": 25,
   "id": "c949e6c4-e2e8-4eaa-a9dd-6001775e15d3",
   "metadata": {},
   "outputs": [
    {
     "data": {
      "text/html": [
       "<iframe\n",
       "    scrolling=\"no\"\n",
       "    width=\"100%\"\n",
       "    height=\"545px\"\n",
       "    src=\"iframe_figures/figure_25.html\"\n",
       "    frameborder=\"0\"\n",
       "    allowfullscreen\n",
       "></iframe>\n"
      ]
     },
     "metadata": {},
     "output_type": "display_data"
    }
   ],
   "source": [
    "fig_data = go.Figure()\n",
    "# Update layout if desired\n",
    "fig_data.update_layout(\n",
    "    title=\"Acceleration, Velocity, Position\",\n",
    "    xaxis_title=\"Time(s)\",\n",
    "    yaxis_title=\"\"\n",
    ")\n",
    "# Add the acceleration trace\n",
    "fig_data.add_trace(go.Scatter(x=df_data['x'], y=df_data['a'], mode='lines', name='Acceleration', line=dict(color='blue')))\n",
    "# Add the velocity trace\n",
    "fig_data.add_trace(go.Scatter(x=df_data['x'], y=df_data['v'], mode='lines', name='Velocity', line=dict(color='red')))\n",
    "# Add the position trace\n",
    "fig_data.add_trace(go.Scatter(x=df_data['x'], y=df_data['s'], mode='lines', name='Position', line=dict(color='green')))\n",
    "\n",
    "fig_data.show()"
   ]
  },
  {
   "cell_type": "markdown",
   "id": "4a8cee1e-f550-499e-a3a9-83b2d704af86",
   "metadata": {},
   "source": [
    "### Acceleration as noisy data ###\n",
    "Add some normally distributed, zero-mean noise with 0.5 standard deviation to the acceleration data."
   ]
  },
  {
   "cell_type": "code",
   "execution_count": 62,
   "id": "461bb124-295e-4c24-81b5-420ca84b909b",
   "metadata": {},
   "outputs": [
    {
     "data": {
      "text/html": [
       "<div>\n",
       "<style scoped>\n",
       "    .dataframe tbody tr th:only-of-type {\n",
       "        vertical-align: middle;\n",
       "    }\n",
       "\n",
       "    .dataframe tbody tr th {\n",
       "        vertical-align: top;\n",
       "    }\n",
       "\n",
       "    .dataframe thead th {\n",
       "        text-align: right;\n",
       "    }\n",
       "</style>\n",
       "<table border=\"1\" class=\"dataframe\">\n",
       "  <thead>\n",
       "    <tr style=\"text-align: right;\">\n",
       "      <th></th>\n",
       "      <th>x</th>\n",
       "    </tr>\n",
       "  </thead>\n",
       "  <tbody>\n",
       "    <tr>\n",
       "      <th>0</th>\n",
       "      <td>0.00000</td>\n",
       "    </tr>\n",
       "    <tr>\n",
       "      <th>1</th>\n",
       "      <td>0.01001</td>\n",
       "    </tr>\n",
       "    <tr>\n",
       "      <th>2</th>\n",
       "      <td>0.02002</td>\n",
       "    </tr>\n",
       "    <tr>\n",
       "      <th>3</th>\n",
       "      <td>0.03003</td>\n",
       "    </tr>\n",
       "    <tr>\n",
       "      <th>4</th>\n",
       "      <td>0.04004</td>\n",
       "    </tr>\n",
       "  </tbody>\n",
       "</table>\n",
       "</div>"
      ],
      "text/plain": [
       "         x\n",
       "0  0.00000\n",
       "1  0.01001\n",
       "2  0.02002\n",
       "3  0.03003\n",
       "4  0.04004"
      ]
     },
     "execution_count": 62,
     "metadata": {},
     "output_type": "execute_result"
    }
   ],
   "source": [
    "X=np.linspace(0,10,1000)\n",
    "df_data_noise = pd.DataFrame(dict(x=X))\n",
    "df_data_noise.head()"
   ]
  },
  {
   "cell_type": "code",
   "execution_count": 82,
   "id": "79e8d024-fb5f-4746-b6b6-b67a102cdee4",
   "metadata": {},
   "outputs": [],
   "source": [
    "noise = np.random.normal(loc=0.0, scale=0.5, size=len(X))\n",
    "df_data_noise['a'] = a_vec(df_data_noise['x']) + noise\n",
    "# compute velocity and position using numerical method\n",
    "df_data_noise['v'] = df_data_noise['a'].cumsum()*(10.0/999.0)\n",
    "df_data_noise['s'] = df_data_noise['v'].cumsum()*(10.0/999.0)"
   ]
  },
  {
   "cell_type": "code",
   "execution_count": 84,
   "id": "3e1d903b-2a3e-44cc-8a2c-e3b0dd74abc2",
   "metadata": {},
   "outputs": [
    {
     "data": {
      "text/html": [
       "<iframe\n",
       "    scrolling=\"no\"\n",
       "    width=\"100%\"\n",
       "    height=\"545px\"\n",
       "    src=\"iframe_figures/figure_84.html\"\n",
       "    frameborder=\"0\"\n",
       "    allowfullscreen\n",
       "></iframe>\n"
      ]
     },
     "metadata": {},
     "output_type": "display_data"
    }
   ],
   "source": [
    "fig_data_noise = go.Figure()\n",
    "# Update layout if desired\n",
    "fig_data_noise.update_layout(\n",
    "    title=\"Acceleration, Velocity, Position + Noise\",\n",
    "    xaxis_title=\"Time(s)\",\n",
    "    yaxis_title=\"\"\n",
    ")\n",
    "# Add the acceleration trace\n",
    "fig_data_noise.add_trace(go.Scatter(x=df_data_noise['x'], y=df_data_noise['a'], mode='markers', name='Acceleration', line=dict(color='blue')))\n",
    "# Add the velocity trace\n",
    "fig_data_noise.add_trace(go.Scatter(x=df_data_noise['x'], y=df_data_noise['v'], mode='lines', name='Velocity', line=dict(color='red')))\n",
    "# Add the position trace\n",
    "fig_data_noise.add_trace(go.Scatter(x=df_data_noise['x'], y=df_data_noise['s'], mode='lines', name='Position', line=dict(color='green')))\n",
    "\n",
    "fig_data_noise.show()"
   ]
  },
  {
   "cell_type": "code",
   "execution_count": null,
   "id": "bad515f9-7854-4cbe-8ec4-f0249d6adc63",
   "metadata": {},
   "outputs": [],
   "source": []
  }
 ],
 "metadata": {
  "kernelspec": {
   "display_name": "Python 3 (ipykernel)",
   "language": "python",
   "name": "python3"
  },
  "language_info": {
   "codemirror_mode": {
    "name": "ipython",
    "version": 3
   },
   "file_extension": ".py",
   "mimetype": "text/x-python",
   "name": "python",
   "nbconvert_exporter": "python",
   "pygments_lexer": "ipython3",
   "version": "3.12.4"
  }
 },
 "nbformat": 4,
 "nbformat_minor": 5
}
